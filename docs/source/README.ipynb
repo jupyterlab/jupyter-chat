{
 "cells": [
  {
   "cell_type": "markdown",
   "id": "d07df0ef-e52d-472f-b864-8f45ec8de64b",
   "metadata": {},
   "source": [
    "# Chat example"
   ]
  },
  {
   "cell_type": "markdown",
   "id": "aadb49b7-33ba-4fd6-9413-b64839894aad",
   "metadata": {},
   "source": [
    "This deployment provides a basic chat to test the features.\n",
    "\n",
    "<div class=\"alert alert-block alert-info\">\n",
    "  <b>WARNING: </b><br />\n",
    "  Jupyterlite does not support collaboration yet, this example only allows you to chat with yourself.\n",
    "</div>\n",
    "\n",
    "To open the chat panel, click on <img src=\"https://raw.githubusercontent.com/jupyterlab/jupyter-chat/c310f16bf2c784bcaed5ca0e3cd1e3996d812ec7/packages/jupyter-chat/style/icons/chat.svg\" width=\"30px\" title=\"Chat icon\"> in the left area."
   ]
  },
  {
   "cell_type": "markdown",
   "id": "b6ce0618-1380-4703-a5fd-49be0f1c0948",
   "metadata": {},
   "source": [
    "## Overview"
   ]
  },
  {
   "cell_type": "markdown",
   "id": "85678f77-70a2-4f46-923a-dfc721994546",
   "metadata": {},
   "source": [
    "The chat UI is composed of a list of messages and an input to send new messages.\n",
    "\n",
    "A message can be edited or deleted by its author, using a dedicated toolbar in the\n",
    "message."
   ]
  },
  {
   "cell_type": "markdown",
   "id": "a09c5460-a1d5-4501-8725-c92c4c5663c8",
   "metadata": {},
   "source": [
    "## Notifications and navigation"
   ]
  },
  {
   "cell_type": "markdown",
   "id": "6eb4075d-df9f-4dab-abbe-1fbb1c2890e7",
   "metadata": {},
   "source": [
    "If enabled in settings, new unread messages generate a notification.\n",
    "\n",
    "A down arrow in the messages list allow to navigate to the last message. This button is\n",
    "highlighted if some new messages are unread."
   ]
  },
  {
   "cell_type": "markdown",
   "id": "a9e5ac98-a6b4-4a5e-970b-e8e602e2a0ea",
   "metadata": {},
   "source": [
    "## Code toolbar"
   ]
  },
  {
   "cell_type": "markdown",
   "id": "5c0e1a45-ee24-43ce-ab87-abcec62bef44",
   "metadata": {},
   "source": [
    "When code is inserted in a message, a toolbar is displayed under the code section (the\n",
    "options must be set up from the settings).\n",
    "\n",
    "From this toolbar, the code can be copied to the clipboard:\n",
    "<img src=\"https://raw.githubusercontent.com/jupyterlab/jupyterlab/1f1a645d840d28ab7a85b751cf1df7c370a00254/packages/ui-components/style/icons/toolbar/copy.svg\" width=\"24px\" title=\"code toolbar copy\">\n",
    "\n",
    "If a notebook is opened and visible (and has an active cell), other actions are\n",
    "available:\n",
    "\n",
    "- copy the code to a new cell above the active one:\n",
    "    <img src=\"https://raw.githubusercontent.com/jupyterlab/jupyterlab/1f1a645d840d28ab7a85b751cf1df7c370a00254/packages/ui-components/style/icons/toolbar/add-above.svg\" width=\"24px\" title=\"code toolbar cell above\">\n",
    "- copy the the code to a new cell below the active one:\n",
    "    <img src=\"https://raw.githubusercontent.com/jupyterlab/jupyterlab/1f1a645d840d28ab7a85b751cf1df7c370a00254/packages/ui-components/style/icons/toolbar/add-below.svg\" width=\"24px\" title=\"code toolbar cell below\">\n",
    "- replace the content of the active cell with the code:\n",
    "    <img src=\"https://raw.githubusercontent.com/jupyterlab/jupyter-chat/c310f16bf2c784bcaed5ca0e3cd1e3996d812ec7/packages/jupyter-chat/style/icons/replace-cell.svg\" width=\"24px\" title=\"code toolbar cell replace\">"
   ]
  },
  {
   "cell_type": "markdown",
   "id": "9cd5f2a6-25d1-4b5c-b774-1527d724c829",
   "metadata": {},
   "source": [
    "## Attachments"
   ]
  },
  {
   "cell_type": "markdown",
   "id": "93642e43-c4da-4260-84b8-d6fdab556e8a",
   "metadata": {},
   "source": [
    "Files can be attached to the messages using the clip icon next to the send icon in the input.\n",
    "It opens a Dialog allowing to select and atach files.\n",
    "\n",
    "Attachments can then be opened by clicking on the preview icon."
   ]
  },
  {
   "cell_type": "markdown",
   "id": "40240824-8b1e-4da7-bfd7-40e87ff47383",
   "metadata": {},
   "source": [
    "## Chat settings"
   ]
  },
  {
   "cell_type": "markdown",
   "id": "cc6719ad-1ef5-4706-a868-ee8d01172f5a",
   "metadata": {},
   "source": [
    "Some jupyterlab settings are available for the chats in the setting panel\n",
    "(menu `Settings->Settings Editor`), with the entry _Chat_.\n",
    "\n",
    "These settings includes:\n",
    "\n",
    "- **sendWithShiftEnter**\n",
    "\n",
    "  Whether to send a message using Shift-Enter instead of Enter.\\\n",
    "  Default: false\n",
    "\n",
    "- **stackMessages**\n",
    "\n",
    "  Whether to stack consecutive messages from same user.\\\n",
    "  Default: true\n",
    "\n",
    "- **unreadNotifications**\n",
    "\n",
    "  Whether to enable or not the notifications on unread messages.\\\n",
    "  Default: true\n",
    "\n",
    "- **enableCodeToolbar**\n",
    "\n",
    "  Whether to enable or not the code toolbar.\\\n",
    "  Default: true"
   ]
  }
 ],
 "metadata": {
  "kernelspec": {
   "display_name": "Python 3 (ipykernel)",
   "language": "python",
   "name": "python3"
  },
  "language_info": {
   "codemirror_mode": {
    "name": "ipython",
    "version": 3
   },
   "file_extension": ".py",
   "mimetype": "text/x-python",
   "name": "python",
   "nbconvert_exporter": "python",
   "pygments_lexer": "ipython3",
   "version": "3.12.8"
  }
 },
 "nbformat": 4,
 "nbformat_minor": 5
}
